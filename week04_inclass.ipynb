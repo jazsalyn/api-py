{
 "cells": [
  {
   "cell_type": "markdown",
   "metadata": {},
   "source": [
    "## API\n",
    "\n",
    "Today, we'll continue with the dictionaries lecture from last week.\n",
    "one of the most popular forms of python dictionaries you'll run across as you work is __JSON__ ([JavaScript Object Notation](https://www.json.org/json-en.html)). JSON is the primary format in which data is passed back and forth to APIs ([Application Programming Interface](https://medium.com/@perrysetgo/what-exactly-is-an-api-69f36968a41f)), and most API servers will send their responses in JSON format. Python has great JSON support, with the json package. We'll play around with a snippet of a call result from the [MET Museum API]('https://metmuseum.github.io/')."
   ]
  },
  {
   "cell_type": "code",
   "execution_count": null,
   "metadata": {},
   "outputs": [],
   "source": [
    "# import requests and json - needed to make an API call\n",
    "import requests\n",
    "import json"
   ]
  },
  {
   "cell_type": "code",
   "execution_count": null,
   "metadata": {},
   "outputs": [],
   "source": [
    "# this is the api endpoint to get a JSON of each department info\n",
    "dept_api_url = 'https://collectionapi.metmuseum.org/public/collection/v1/departments'"
   ]
  },
  {
   "cell_type": "code",
   "execution_count": null,
   "metadata": {},
   "outputs": [],
   "source": [
    "# calling the API with requests\n",
    "response = requests.get(dept_api_url)\n",
    "# creating a variable called data to hold the json formatted result\n",
    "department_data = response.json()"
   ]
  },
  {
   "cell_type": "code",
   "execution_count": null,
   "metadata": {},
   "outputs": [],
   "source": [
    "print(type(department_data))\n",
    "department_data"
   ]
  },
  {
   "cell_type": "code",
   "execution_count": null,
   "metadata": {},
   "outputs": [],
   "source": [
    "# from the JSON above we only need the list with all department \"dictionaries\" in them\n",
    "# we'll store this in a variable called departments\n",
    "departments = department_data['departments']\n",
    "departments"
   ]
  },
  {
   "cell_type": "code",
   "execution_count": null,
   "metadata": {},
   "outputs": [],
   "source": [
    "# once we have the department information, we can examine how many objects there are in \n",
    "# total for a particular department.\n",
    "# this api endpoint also provides a list of object ids which we'll use later to get images\n",
    "# here we are examining the first department, which is American Decorative Arts\n",
    "obj_by_dept_url = \"https://collectionapi.metmuseum.org/public/collection/v1/objects?departmentIds=\" + str(1) + '&q=cat'\n",
    "response = requests.get(obj_by_dept_url)\n",
    "obj_data = response.json()\n",
    "print(obj_data)"
   ]
  },
  {
   "cell_type": "code",
   "execution_count": null,
   "metadata": {},
   "outputs": [],
   "source": [
    "# we can get the info for all the departments by looping\n",
    "for department in departments:\n",
    "    department_url = \"https://collectionapi.metmuseum.org/public/collection/v1/objects?departmentIds=\" + str(department['departmentId']) + '&q=cat'\n",
    "    response = requests.get(department_url)\n",
    "    data = response.json()\n",
    "    print(data)"
   ]
  },
  {
   "cell_type": "code",
   "execution_count": null,
   "metadata": {},
   "outputs": [],
   "source": [
    "# we can create a list with objects per deparment so that the name of the department\n",
    "# and the total number of objects are grouped together\n",
    "dept_obj_total = []\n",
    "\n",
    "for department in departments:\n",
    "    obj = {}\n",
    "    obj['title'] = department['displayName']\n",
    "    dept_obj_total.append(obj)\n",
    "    \n",
    "    department_url = \"https://collectionapi.metmuseum.org/public/collection/v1/objects?departmentIds=\" + str(department['departmentId']) + '&q=cat'\n",
    "    response = requests.get(department_url)\n",
    "    data = response.json()\n",
    "    obj['total_objects'] = data['total']\n",
    "    \n",
    "print(dept_obj_total)"
   ]
  } 
  {
   "cell_type": "code",
   "execution_count": null,
   "metadata": {},
   "outputs": [],
   "source": []
  }
 ],
 "metadata": {
  "kernelspec": {
   "display_name": "Python 3",
   "language": "python",
   "name": "python3"
  },
  "language_info": {
   "codemirror_mode": {
    "name": "ipython",
    "version": 3
   },
   "file_extension": ".py",
   "mimetype": "text/x-python",
   "name": "python",
   "nbconvert_exporter": "python",
   "pygments_lexer": "ipython3",
   "version": "3.7.6"
  }
 },
 "nbformat": 4,
 "nbformat_minor": 4
}
